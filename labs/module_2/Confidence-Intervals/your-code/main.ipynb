{
 "cells": [
  {
   "cell_type": "markdown",
   "metadata": {
    "Collapsed": "false"
   },
   "source": [
    "# Confidence Intervals"
   ]
  },
  {
   "cell_type": "code",
   "execution_count": 1,
   "metadata": {
    "Collapsed": "false"
   },
   "outputs": [],
   "source": [
    "# Libraries\n",
    "import numpy as np\n",
    "import pandas as pd\n",
    "from matplotlib import pyplot as plt\n",
    "from scipy.stats import norm\n",
    "from scipy import stats\n",
    "from scipy.stats import t\n"
   ]
  },
  {
   "cell_type": "markdown",
   "metadata": {
    "Collapsed": "false"
   },
   "source": [
    "## Challenge 1\n",
    "We want to estimate the average size of the men of a country with a confidence level of 80%. Assuming that the standard deviation of the sizes in the population is 4, get the confidence interval with a sample of men selected randomly, whose heights are:\n",
    "\n",
    "````\n",
    "heights = [167, 167, 168, 168, 168, 169, 171, 172, 173, 175, 175, 175, 177, 182, 195]\n",
    "````\n",
    "\n",
    "**Hint**: function `stats.norm.interval` from `scipy` can help you get through this exercise. "
   ]
  },
  {
   "cell_type": "code",
   "execution_count": 2,
   "metadata": {
    "Collapsed": "false"
   },
   "outputs": [
    {
     "name": "stdout",
     "output_type": "stream",
     "text": [
      "We are 80% certain that the true population mean is between 172.14 and 174.79\n"
     ]
    }
   ],
   "source": [
    "# your code here\n",
    "conf_level = 0.8\n",
    "stdev_pop = 4\n",
    "heights = [167, 167, 168, 168, 168, 169, 171, 172, 173, 175, 175, 175, 177, 182, 195]\n",
    "sample_size = len(heights)\n",
    "margin_of_error = stdev_pop / np.sqrt(sample_size)\n",
    "# z = norm.interval(conf_level)[1]\n",
    "\n",
    "#with a known stdev_pop you can use the z-value instead of t-value. But you need to correct for the (smallish) sample size.\n",
    "heights_upper = np.mean(heights) + norm.interval(conf_level)[1] * margin_of_error\n",
    "heights_lower = np.mean(heights) - norm.interval(conf_level)[1] * margin_of_error\n",
    "\n",
    "print(\"We are 80% certain that the true population mean is between\", round(heights_lower, 2), \"and\", round(heights_upper, 2))\n"
   ]
  },
  {
   "cell_type": "markdown",
   "metadata": {
    "Collapsed": "false"
   },
   "source": [
    "## Challenge 2 \n",
    "In a sample of 105 shops selected randomly from an area, we note that 27 of them have had losses in this month. Get an interval for the proportion of businesses in the area with losses to a confidence level of 80% and a confidence level of 90%.\n",
    "\n",
    "**Hint**: function `stats.norm.interval` from `scipy` can help you get through this exercise. "
   ]
  },
  {
   "cell_type": "code",
   "execution_count": 3,
   "metadata": {
    "Collapsed": "false"
   },
   "outputs": [
    {
     "name": "stdout",
     "output_type": "stream",
     "text": [
      "The confidence interval of the mean being right lies - within 80% certainty - between 0.31 and 0.2\n",
      "The confidence interval of the mean being right lies - within 90% certainty - between 0.33 and 0.19\n"
     ]
    }
   ],
   "source": [
    "# you look at a sample, and don't know population parameters therefore use t-test, not z.\n",
    "sample_size = 105\n",
    "sample_mean = 27/105 #proportion of losses observed\n",
    "degrees_freedom = sample_size - 1\n",
    "t_80 = stats.t.interval(0.8, degrees_freedom)[1]\n",
    "t_90 = stats.t.interval(0.9, degrees_freedom)[1]\n",
    "standard_error = np.sqrt((27/105)*(1-(27/105))/105) \n",
    "\n",
    "conf_upper_80 = sample_mean + t_80 * standard_error\n",
    "conf_lower_80 = sample_mean - t_80 * standard_error\n",
    "\n",
    "conf_upper_90 = sample_mean + t_90 * standard_error\n",
    "conf_lower_90 = sample_mean - t_90 * standard_error\n",
    "\n",
    "print(\"The confidence interval of the mean being right lies - within 80% certainty - between\", round(conf_upper_80,2), \"and\", round(conf_lower_80, 2))\n",
    "print(\"The confidence interval of the mean being right lies - within 90% certainty - between\", round(conf_upper_90,2), \"and\", round(conf_lower_90, 2))\n"
   ]
  },
  {
   "cell_type": "markdown",
   "metadata": {
    "Collapsed": "false"
   },
   "source": [
    "\n",
    "## Challenge 3 (Bonus) - More practice\n",
    "For the same example in challenge 1, calculate a confidence interval for the variance at 90% level.\n",
    "\n",
    "**Hint**: function `stats.chi2.interval` from `scipy` can help you get through this exercise. "
   ]
  },
  {
   "cell_type": "code",
   "execution_count": 4,
   "metadata": {
    "Collapsed": "false"
   },
   "outputs": [],
   "source": [
    "# your code here\n"
   ]
  },
  {
   "cell_type": "markdown",
   "metadata": {
    "Collapsed": "false"
   },
   "source": [
    "## Challenge 4 - More practice\n",
    "The sulfuric acid content of 7 similar containers is 9.8, 10.2, 10.4, 9.8, 10.0, 10.2 and 9.6 liters. Calculate a 95% confidence interval for the average content of all containers assuming an approximately normal distribution.\n",
    "\n",
    "```\n",
    "acid = [9.8, 10.2, 10.4, 9.8, 10.0, 10.2, 9.6]\n",
    "```\n",
    "\n",
    "**Hint**: function `stats.t.interval` from `scipy` can help you get through this exercise. "
   ]
  },
  {
   "cell_type": "code",
   "execution_count": 5,
   "metadata": {
    "Collapsed": "false"
   },
   "outputs": [
    {
     "name": "stdout",
     "output_type": "stream",
     "text": [
      "It's 95% certain that the mean sulfuric acid content of a container is between: 10.26 and 9.74\n",
      "Or, using the numpy standard deviation:\n",
      "It's 95% certain that the mean sulfuric acid content of a container is between: 10.24 and 9.76\n"
     ]
    }
   ],
   "source": [
    "# your code here\n",
    "acid = [9.8, 10.2, 10.4, 9.8, 10.0, 10.2, 9.6]\n",
    "sample_size = len(acid)\n",
    "mean_sample = np.mean(acid)\n",
    "conf_level = 0.95\n",
    "d_freedom = sample_size-1\n",
    "\n",
    "\n",
    "#little observations, so calculate sample STDEV = SQRT [ (SUM (Xi - Xmu)**2) / (n-1) ] instead of using np.std()\n",
    "\n",
    "noemer = []\n",
    "\n",
    "for i in range(sample_size):\n",
    "    x = (acid[i] - mean_sample)**2\n",
    "    noemer.append(x)\n",
    "\n",
    "std_sample = np.sqrt((sum(noemer))/(sample_size-1))\n",
    "\n",
    "    \n",
    "se_sample_numpy = np.std(acid)/np.sqrt(sample_size)\n",
    "se_sample_me = std_sample / np.sqrt(sample_size)\n",
    "\n",
    "t = stats.t.interval(conf_level, d_freedom)[1]\n",
    "\n",
    "upper = mean_sample + t * se_sample_me\n",
    "lower = mean_sample - t * se_sample_me\n",
    "\n",
    "upper_numpy = mean_sample + t * se_sample_numpy\n",
    "lower_numpy = mean_sample - t * se_sample_numpy\n",
    "\n",
    "\n",
    "print(\"It's 95% certain that the mean sulfuric acid content of a container is between:\", round(upper, 2),\"and\", round(lower,2))\n",
    "print(\"Or, using the numpy standard deviation:\")\n",
    "print(\"It's 95% certain that the mean sulfuric acid content of a container is between:\", round(upper_numpy, 2),\"and\", round(lower_numpy,2))"
   ]
  },
  {
   "cell_type": "markdown",
   "metadata": {
    "Collapsed": "false"
   },
   "source": [
    "## Bonus Challenge\n",
    "The error level or sampling error for the first challenge is given by the following expression:\n",
    "$$Error = z_{\\frac{\\alpha}{2}}\\frac{\\sigma}{\\sqrt n}$$\n",
    "Where z represents the value for N(0,1)\n",
    "\n",
    "\n",
    "Suppose that with the previous data of challenge 1, and with a confidence level of\n",
    "99% (that is, almost certainly) we want to estimate the average population size, so that the error level committed is not greater than half a centimeter.\n",
    "\n",
    "#### 1.- Determine what size the selected sample of men should be."
   ]
  },
  {
   "cell_type": "code",
   "execution_count": 6,
   "metadata": {
    "Collapsed": "false"
   },
   "outputs": [
    {
     "name": "stdout",
     "output_type": "stream",
     "text": [
      "The sample size should be at least 424.63 e.a.: 425\n"
     ]
    }
   ],
   "source": [
    "# your code here\n",
    "error = 0.5\n",
    "stdev_pop = 4\n",
    "# n = ?\n",
    "conf_level = 0.99\n",
    "z = norm.interval(conf_level)[1]\n",
    "\n",
    "n =(1/(error / z / stdev_pop))**2\n",
    "print(\"The sample size should be at least\", round(n, 2), \"e.a.: 425\")"
   ]
  },
  {
   "cell_type": "markdown",
   "metadata": {
    "Collapsed": "false"
   },
   "source": [
    "#### 2.- For the second challenge, we have the following error:\n",
    "$$ Error = z_{\\frac{\\alpha}{2}}\\sqrt{\\frac{p\\times q}{n}} $$\n",
    "#### Determine the sample size required to not exceed an error of 1% with a confidence of 80%."
   ]
  },
  {
   "cell_type": "code",
   "execution_count": 7,
   "metadata": {
    "Collapsed": "false"
   },
   "outputs": [
    {
     "name": "stdout",
     "output_type": "stream",
     "text": [
      "Needed sample size is 3138.0\n"
     ]
    }
   ],
   "source": [
    "# your code here\n",
    "error = 0.01\n",
    "conf_level = 0.8\n",
    "p = 27/105\n",
    "q = 1-p\n",
    "# z=stats.t.interval(conf_level, n)[1] \n",
    "z = stats.norm.interval(conf_level)[1] #how come you are allowed to use norm all of a sudden?\n",
    "\n",
    "\n",
    "# error = z * np.sqrt((p*q)/n)\n",
    "# (error / z)**2 = (p*q)/n\n",
    "# n = p*q / ((error / z)**2)\n",
    "\n",
    "n = p*q / ((error / z)**2)\n",
    "\n",
    "print(f'Needed sample size is {np.ceil(n)}')"
   ]
  },
  {
   "cell_type": "markdown",
   "metadata": {
    "Collapsed": "false"
   },
   "source": [
    "## Bonus Challenge\n",
    "\n",
    "Let's consider the following problem:\n",
    "\n",
    "Build a confidence interval of 94% for the real difference between the durations of two brands of spotlights, if a sample of 40 spotlights taken randomly from the first mark gave an average duration of 418 hours, and a sample of 50 bulbs of another brand gave a duration average of 402 hours. The standard deviations of the two\n",
    "populations are 26 hours and 22 hours, respectively.\n",
    "\n",
    "Sometimes, we will be interested in the difference of two different groups of random variables. We can also build a confidence interval for that! We have some different cases regarding the variance but for this specific case (the variance are different and known), we have that:\n",
    "\n",
    "$$\\overline{X} - \\overline{Y}  \\sim N(\\mu_{X} - \\mu_{Y} , \\sqrt{\\frac{\\sigma_{X}^2}{n_X}+\\frac{\\sigma_{Y}^2}{n_Y}})$$\n",
    "\n",
    "Solve the problem with this information."
   ]
  },
  {
   "cell_type": "code",
   "execution_count": 8,
   "metadata": {
    "Collapsed": "false"
   },
   "outputs": [
    {
     "name": "stdout",
     "output_type": "stream",
     "text": [
      "with 94% certainty, the difference in spotlight-duration is between 6 and 26 hours\n"
     ]
    }
   ],
   "source": [
    "# your code here\n",
    "sample_size_1 = 40\n",
    "mean_1 = 418\n",
    "stdev_pop_1 = 26\n",
    "\n",
    "sample_size_2= 50\n",
    "mean_2 = 402\n",
    "stdev_pop_2 = 22\n",
    "\n",
    "conf_level = 0.94\n",
    "\n",
    "mean = mean_1 - mean_2 # mean of the mean of pop 1 and 2 \n",
    "stdev = np.sqrt((stdev_pop_1**2 / sample_size_1) + (stdev_pop_2**2 / sample_size_2)) # mean of the stdev of pop 1 and 2 \n",
    "\n",
    "#true meanwith conf_level of 0.94, we have pop_stdev, so use z, corrected for samplesize\n",
    "z = norm.interval(conf_level)[1]\n",
    "\n",
    "upper =  mean + z*stdev # NOTE: STDEV already corrected for sample_size. don't do it again.\n",
    "lower = mean - z*stdev\n",
    "\n",
    "print(f'with 94% certainty, the difference in spotlight-duration is between {round(lower)} and {round(np.ceil(upper))} hours')\n"
   ]
  },
  {
   "cell_type": "code",
   "execution_count": null,
   "metadata": {},
   "outputs": [],
   "source": []
  }
 ],
 "metadata": {
  "kernelspec": {
   "display_name": "Python 3",
   "language": "python",
   "name": "python3"
  },
  "language_info": {
   "codemirror_mode": {
    "name": "ipython",
    "version": 3
   },
   "file_extension": ".py",
   "mimetype": "text/x-python",
   "name": "python",
   "nbconvert_exporter": "python",
   "pygments_lexer": "ipython3",
   "version": "3.8.5"
  }
 },
 "nbformat": 4,
 "nbformat_minor": 4
}
