{
 "cells": [
  {
   "cell_type": "markdown",
   "metadata": {
    "Collapsed": "false"
   },
   "source": [
    "# Introduction To Probability\n",
    "## Challenge 1\n",
    "\n",
    "A and B are events of a probability space with $(\\omega, \\sigma, P)$ such that $P(A) = 0.3$, $P(B) = 0.6$ and $P(A \\cap B) = 0.1$\n",
    "\n",
    "Which of the following statements are false?\n",
    "<ol>\n",
    "    <li> * $P(A \\cup B) = 0.6$</li>\n",
    "<li> * $P(A \\cap B^{C}) = 0.2$ </li>\n",
    "<li> * $P(A \\cap (B \\cup B^{C})) = 0.4$ </li>\n",
    "<li> * $P(A^{C} \\cap B^{C}) = 0.3$ </li>\n",
    "    <li> * $P((A \\cap B)^{C}) = 0.9$ </li>\n",
    "   </ol>"
   ]
  },
  {
   "cell_type": "code",
   "execution_count": 14,
   "metadata": {},
   "outputs": [
    {
     "data": {
      "text/plain": [
       "'\\nPA = 0.3\\nPB =0.6\\nPB_c= 0.4 #1-PB\\nPA_c = 0.7 #1-PA\\n\\nA_or_B = basically all but interception = 0.3+0.6-0.1 #0.8\\nA_AND_notB = A-only = 0.3  #0.3\\nA_AND_(B_or_notB))= basically all is right as long as you have A = PA * 1 #0.3\\nnotA AND notB = P(not_A AND not_B) = (1-A) * (1-B) = 0.7*0.4 #0.28\\n1 - P(A AND B) = 1 - 0.3 * 0.6 = 1 - 0.18 = 0.82\\n'"
      ]
     },
     "execution_count": 14,
     "metadata": {},
     "output_type": "execute_result"
    }
   ],
   "source": [
    "\"\"\"\n",
    "PA = 0.3\n",
    "PB =0.6\n",
    "PB_c= 0.4 #1-PB\n",
    "PA_c = 0.7 #1-PA\n",
    "\n",
    "1. A_or_B = A or B, but not the interception (not A AND B) = 0.3+0.6-0.1 #0.8\n",
    "2. A_AND_notB = A but only the part where B's not in it too = 0.3 - 0.1 #0.2\n",
    "3. A_AND_(B_or_notB))= basically all is right as long as you have A => PA * 1 #0.3\n",
    "4. notA AND notB = all that is not only A and not only B, so interception only = 0.1  #why is AB counted twice now???\n",
    "5). this is the opposite of A AND B (intercept). = 1 - P(A AND B) = 1 - 0.1 = 1 - 0.1 = 0.9\n",
    "\"\"\""
   ]
  },
  {
   "cell_type": "code",
   "execution_count": null,
   "metadata": {
    "Collapsed": "false"
   },
   "outputs": [],
   "source": [
    "\"\"\"\n",
    "\n",
    "False:\n",
    "1 (equals 0.8)\n",
    "3 (equals 0.3)\n",
    "4 (equals 0.1) X this one I dont get?\n",
    "\n",
    "True:\n",
    "2 (equals 0.2)\n",
    "5 (equals 0.9)\n",
    "\n",
    "\"\"\""
   ]
  },
  {
   "cell_type": "markdown",
   "metadata": {
    "Collapsed": "false"
   },
   "source": [
    "## Challenge 2\n",
    "There is a box with 10 white balls, 12 red balls and 8 black balls. Calculate the probability of:\n",
    "<ol>\n",
    "<li>* Taking a white ball out.</li>\n",
    "<li>* Taking a white ball out after taking a black ball out.</li>\n",
    "<li>* Taking a red ball out after taking a black and a red ball out.</li>\n",
    "    <li>* Taking a red ball out after taking a black and a red ball out with reposition. </li>\n",
    "</ol>\n",
    "**Hint**: Reposition means putting back the ball into the box after taking it out."
   ]
  },
  {
   "cell_type": "code",
   "execution_count": null,
   "metadata": {
    "Collapsed": "false"
   },
   "outputs": [],
   "source": [
    "\"\"\"\n",
    "1. P(white) = 10/30 = 1/3 --> 33% chance\n",
    "2. P(W | B) = P(B) * P(W) = 8/30 * 10/29 = 0.092 --> 9,2% chance\n",
    "3. P(R | (B n R)) = P(B n R)  = (12/30 * 8/29) * 11/28 = 0.043 --> 4,3% chance\n",
    "4. P(R | B and R) = P(R) * P(B) * P(R) = 12/30 * 8/30 * 12/30 = 0.0426 = 4,2% chance\n",
    "\n",
    "\"\"\""
   ]
  },
  {
   "cell_type": "code",
   "execution_count": null,
   "metadata": {},
   "outputs": [],
   "source": []
  },
  {
   "cell_type": "markdown",
   "metadata": {
    "Collapsed": "false"
   },
   "source": [
    "## Challenge 3 - BONUS\n",
    "\n",
    "You are planning to go on a picnic today but the morning is cloudy. You hate rain so you don't know whether to go out or stay home! To help you make a decision, you gather the following data about rainy days:\n",
    "\n",
    "* 50% of all rainy days start off cloudy!\n",
    "* Cloudy mornings are common. About 40% of days start cloudy. \n",
    "* This month is usually dry so only 3 of 30 days (10%) tend to be rainy. \n",
    "\n",
    "What is the chance of rain during the day?"
   ]
  },
  {
   "cell_type": "code",
   "execution_count": 8,
   "metadata": {},
   "outputs": [
    {
     "name": "stdout",
     "output_type": "stream",
     "text": [
      "The chance of rain during the day, given the day started cloudy is: 12.5 %\n"
     ]
    }
   ],
   "source": [
    "# P(clouds) = 0.4    #40% of days start of cloudy\n",
    "# P(clouds | rain) = 0.5  #given it rained, the chance is 50% that the day started out cloudy --> does this show independency?\n",
    "# P(rain) = 0.1   #in general the chance of rain is 10%\n",
    "\n",
    "# calculate P(rain | clouds)  # given it's cloudy, what is the chance of rain\n",
    "\n",
    "# P(rain | clouds) = p(clouds | rain) *P(rain) / P(clouds)\n",
    "\n",
    "P_rain_clouds = (0.5*0.1) / 0.4\n",
    "print(\"The chance of rain during the day, given the day started cloudy is:\", P_rain_clouds*100, \"%\")\n"
   ]
  },
  {
   "cell_type": "markdown",
   "metadata": {
    "Collapsed": "false"
   },
   "source": [
    "## Challenge 4\n",
    "\n",
    "One thousand people were asked through a telephone survey whether they thought more street lighting is needed at night or not.\n",
    "\n",
    "Out of the 480 men that answered the survey, 324 said yes and 156 said no. On the other hand, out of the 520 women that answered, 351 said yes and 169 said no. \n",
    "\n",
    "We wonder if men and women have a different opinions about the street lighting matter. Is gender relevant or irrelevant to the question?\n",
    "\n",
    "Consider the following events:\n",
    "- The answer is yes, so the person that answered thinks that more street lighting is needed.\n",
    "- The person who answered is a man.\n",
    "\n",
    "We want to know if these events are independent, that is, if the fact of wanting more light depends on whether one is male or female. Are these events independent or not?\n",
    "\n",
    "**Hint**: To clearly compare the answers by gender, it is best to place the data in a table."
   ]
  },
  {
   "cell_type": "code",
   "execution_count": 7,
   "metadata": {},
   "outputs": [],
   "source": [
    "import pandas as pd"
   ]
  },
  {
   "cell_type": "code",
   "execution_count": 10,
   "metadata": {
    "Collapsed": "false"
   },
   "outputs": [
    {
     "data": {
      "text/html": [
       "<div>\n",
       "<style scoped>\n",
       "    .dataframe tbody tr th:only-of-type {\n",
       "        vertical-align: middle;\n",
       "    }\n",
       "\n",
       "    .dataframe tbody tr th {\n",
       "        vertical-align: top;\n",
       "    }\n",
       "\n",
       "    .dataframe thead th {\n",
       "        text-align: right;\n",
       "    }\n",
       "</style>\n",
       "<table border=\"1\" class=\"dataframe\">\n",
       "  <thead>\n",
       "    <tr style=\"text-align: right;\">\n",
       "      <th></th>\n",
       "      <th>sex</th>\n",
       "      <th>answer</th>\n",
       "      <th>N_times</th>\n",
       "      <th>P</th>\n",
       "    </tr>\n",
       "  </thead>\n",
       "  <tbody>\n",
       "    <tr>\n",
       "      <th>0</th>\n",
       "      <td>man</td>\n",
       "      <td>yes</td>\n",
       "      <td>324</td>\n",
       "      <td>0.675</td>\n",
       "    </tr>\n",
       "    <tr>\n",
       "      <th>1</th>\n",
       "      <td>man</td>\n",
       "      <td>no</td>\n",
       "      <td>156</td>\n",
       "      <td>0.325</td>\n",
       "    </tr>\n",
       "    <tr>\n",
       "      <th>2</th>\n",
       "      <td>woman</td>\n",
       "      <td>yes</td>\n",
       "      <td>351</td>\n",
       "      <td>0.675</td>\n",
       "    </tr>\n",
       "    <tr>\n",
       "      <th>3</th>\n",
       "      <td>woman</td>\n",
       "      <td>no</td>\n",
       "      <td>169</td>\n",
       "      <td>0.325</td>\n",
       "    </tr>\n",
       "  </tbody>\n",
       "</table>\n",
       "</div>"
      ],
      "text/plain": [
       "     sex answer  N_times      P\n",
       "0    man    yes      324  0.675\n",
       "1    man     no      156  0.325\n",
       "2  woman    yes      351  0.675\n",
       "3  woman     no      169  0.325"
      ]
     },
     "execution_count": 10,
     "metadata": {},
     "output_type": "execute_result"
    }
   ],
   "source": [
    "data = {'sex':['man', 'man', 'woman', 'woman'],\n",
    "       'answer': ['yes', 'no', 'yes', 'no'],\n",
    "        'N_times':[324, 156, 351, 169],\n",
    "        'P':[324/480, 156/480, 351/520, 169/520]\n",
    "       }\n",
    "\n",
    "df = pd.DataFrame(data)\n",
    "df"
   ]
  },
  {
   "cell_type": "code",
   "execution_count": null,
   "metadata": {
    "Collapsed": "false"
   },
   "outputs": [],
   "source": [
    "\"\"\"\n",
    "The same ratio of men and women do/don't need the extra light. so not dependent on sex.\n",
    "\"\"\""
   ]
  },
  {
   "cell_type": "code",
   "execution_count": null,
   "metadata": {},
   "outputs": [],
   "source": [
    "n = 1000\n",
    "n_men = 480\n",
    "n_women = 520\n",
    "\n",
    "n_women_yes = 351\n",
    "n_men_yes = 324\n",
    "\n",
    "n_total_yes = 675"
   ]
  },
  {
   "cell_type": "code",
   "execution_count": 12,
   "metadata": {},
   "outputs": [
    {
     "data": {
      "text/plain": [
       "0.324"
      ]
     },
     "execution_count": 12,
     "metadata": {},
     "output_type": "execute_result"
    }
   ],
   "source": [
    "#event 1: the answer is yes \n",
    "#event 2: the person answering is a man\n",
    "\n",
    "# P(man | yes) = P(yes) * P(man)\n",
    "#P(yes) = 675/1000\n",
    "# P(man)= 324/(675)\n",
    "\n",
    "p_man_given_yes = (675/1000) * (324/675)\n",
    "p_man_given_yes"
   ]
  }
 ],
 "metadata": {
  "kernelspec": {
   "display_name": "Python 3",
   "language": "python",
   "name": "python3"
  },
  "language_info": {
   "codemirror_mode": {
    "name": "ipython",
    "version": 3
   },
   "file_extension": ".py",
   "mimetype": "text/x-python",
   "name": "python",
   "nbconvert_exporter": "python",
   "pygments_lexer": "ipython3",
   "version": "3.8.5"
  }
 },
 "nbformat": 4,
 "nbformat_minor": 4
}
